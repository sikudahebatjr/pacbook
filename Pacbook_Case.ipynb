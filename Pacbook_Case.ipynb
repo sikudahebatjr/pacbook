{
  "cells": [
    {
      "cell_type": "markdown",
      "metadata": {
        "id": "a6ecgN3esrYM"
      },
      "source": [
        "\n",
        "**Scenario:** Daily Processing of Past Day's Orders\n",
        "\n",
        "**1. Extract:**\n",
        "\n",
        "* **Tools:** Python, `psycopg2`"
      ]
    },
    {
      "cell_type": "code",
      "execution_count": 10,
      "metadata": {
        "id": "LLRySqTzsrYa"
      },
      "outputs": [],
      "source": [
        "import psycopg2\n",
        "\n",
        "conn = psycopg2.connect(dbname=\"pacbook\", user=\"postgres\", password=\"mypassword\", host=\"103.217.145.217\")\n",
        "\n",
        "# Create a cursor object\n",
        "cur = conn.cursor()\n",
        "\n",
        "# Extract data from the cust_order table\n",
        "cur.execute(\"SELECT * FROM cust_order\")\n",
        "cust_orders = cur.fetchall()\n",
        "\n",
        "# Extract data from other tables as needed\n",
        "# Extract data from the order_line table\n",
        "cur.execute(\"SELECT * FROM order_line\")\n",
        "order_lines = cur.fetchall()\n",
        "\n",
        "# Extract data from the country table\n",
        "cur.execute(\"SELECT * FROM country\")\n",
        "countries = cur.fetchall()\n",
        "\n",
        "# Extract data from the author table\n",
        "cur.execute(\"SELECT * FROM author\")\n",
        "authors = cur.fetchall()\n",
        "\n",
        "# Extract data from the book_author table\n",
        "cur.execute(\"SELECT * FROM book_author\")\n",
        "book_authors = cur.fetchall()\n",
        "\n",
        "# Extract data from the book table\n",
        "cur.execute(\"SELECT * FROM book\")\n",
        "books = cur.fetchall()\n",
        "\n",
        "# Extract data from the customer_address table\n",
        "cur.execute(\"SELECT * FROM customer_address\")\n",
        "customer_addresses = cur.fetchall()\n",
        "\n",
        "# Extract data from the book table\n",
        "cur.execute(\"SELECT * FROM address\")\n",
        "books = cur.fetchall()\n",
        "\n",
        "# Close the cursor and connection\n",
        "cur.close()\n",
        "conn.close()\n"
      ]
    },
    {
      "cell_type": "markdown",
      "metadata": {
        "id": "BbQD5j6isrYi"
      },
      "source": [
        "**2. Load to Staging:**\n",
        "\n",
        "* **Tools:** Python, `pandas` (optional)"
      ]
    },
    {
      "cell_type": "code",
      "execution_count": 11,
      "metadata": {
        "colab": {
          "base_uri": "https://localhost:8080/"
        },
        "id": "IQDREE_9srYn",
        "outputId": "7542cbb0-8c33-42e8-8509-a2e3fe6be322"
      },
      "outputs": [
        {
          "name": "stdout",
          "output_type": "stream",
          "text": [
            "   0                          1  2  3    4\n",
            "0  1 2022-06-23 02:18:54.998111  1  3  138\n",
            "1  2 2022-08-24 23:10:36.998111  2  4  755\n",
            "2  3 2021-06-06 23:38:26.998111  3  3  735\n",
            "3  4 2021-06-23 09:35:51.998111  4  1  746\n",
            "4  5 2022-07-28 06:53:05.998111  5  2  662\n"
          ]
        }
      ],
      "source": [
        "import pandas as pd\n",
        "\n",
        "# Load data to staging using pandas (optional)\n",
        "cust_orders_df = pd.DataFrame(cust_orders)\n",
        "order_lines_df = pd.DataFrame(order_lines)\n",
        "countries_df = pd.DataFrame(countries)\n",
        "authors_df = pd.DataFrame(authors)\n",
        "book_authors_df = pd.DataFrame(book_authors)\n",
        "books_df = pd.DataFrame(books)\n",
        "customer_addresses_df = pd.DataFrame(customer_addresses)\n",
        "\n",
        "# Load data to staging area in Data Warehouse database (replace with actual method)\n",
        "cust_orders_df.to_sql(\"staging_cust_orders\", con=\"dw_connection_string\", index=False, if_exists=\"replace\")\n",
        "order_lines_df.to_sql(\"staging_order_lines\", con=\"dw_connection_string\", index=False, if_exists=\"replace\")\n",
        "countries_df.to_sql(\"staging_countries\", con=\"dw_connection_string\", index=False, if_exists=\"replace\")\n",
        "authors_df.to_sql(\"staging_authors\", con=\"dw_connection_string\", index=False, if_exists=\"replace\")\n",
        "book_authors_df.to_sql(\"staging_book_authors\", con=\"dw_connection_string\", index=False, if_exists=\"replace\")\n",
        "books_df.to_sql(\"staging_books\", con=\"dw_connection_string\", index=False, if_exists=\"replace\")\n",
        "customer_addresses_df.to_sql(\"staging_customer_addresses\", con=\"dw_connection_string\", index=False, if_exists=\"replace\")"
      ]
    },
    {
      "cell_type": "markdown",
      "metadata": {
        "id": "pG1ViVChsrYq"
      },
      "source": [
        "**3. Transform:**\n",
        "\n",
        "* **Tools:** dbt\n",
        "\n",
        "```sql\n",
        "-- dbt model: transform_order_data.sql\n",
        "\n",
        "CREATE OR REPLACE VIEW fct_order_country AS\n",
        "WITH transformed_data AS (\n",
        "  SELECT\n",
        "    ol.order_id,\n",
        "    ol.book_id,\n",
        "    ol.price,\n",
        "    c.first_name,\n",
        "    c.last_name,\n",
        "    b.title,\n",
        "    a.author_name,\n",
        "    b.isbn13,\n",
        "    c2.country_name\n",
        "FROM\n",
        "    order_line ol\n",
        "    JOIN cust_order co ON ol.order_id = co.order_id\n",
        "    JOIN book b ON ol.book_id = b.book_id\n",
        "    JOIN customer c ON co.customer_id = c.customer_id\n",
        "    JOIN book_author ba ON b.book_id = ba.book_id\n",
        "    JOIN author a ON ba.author_id = a.author_id\n",
        "    left join address a on a.address_id = co.dest_address_id \n",
        "    left join country c2 on a.country_id = c2.country_id \n",
        "GROUP BY\n",
        "    ol.order_id,\n",
        "    ol.book_id,\n",
        "    ol.price,\n",
        "    c.first_name,\n",
        "    c.last_name,\n",
        "    b.title,\n",
        "    a.author_name,\n",
        "    b.isbn13,\n",
        "    c2.country_name\n",
        ");\n",
        "\n",
        "SELECT * FROM transformed_data;\n",
        "```\n",
        "\n",
        "This dbt model joins the extracted data with relevant dimension tables, calculates the total order value, and creates a view (`fct_order_country`) representing the transformed data.\n",
        "\n",
        "**4. Load to Data Warehouse:**\n",
        "\n",
        "dbt can handle loading the transformed data from the view (`fct_order_country`) into the final Data Warehouse table automatically.\n",
        "\n",
        "**Running the Pipeline:**\n",
        "\n",
        "This Python script can be wrapped into a Luigi task and scheduled to run daily using cron jobs or cloud-based schedulers.\n",
        "\n",
        "**Testing Scenarios:**\n",
        "\n",
        "**Scenario 1: Initial Load (First Day's Run)**\n",
        "\n",
        "* **Testing Approach:** Run the pipeline manually for the first time.\n",
        "* **Expected Outcome:**\n",
        "    - The Data Warehouse table `fct_order_country` should be populated with data for yesterday's orders.\n",
        "    - Verify data presence by querying the table using tools like pgAdmin or SQL commands.\n",
        "    - Use dbt tests to confirm data counts and basic data integrity.\n",
        "\n",
        "**Scenario 2: New Data (Processing Additional Orders from Today)**\n",
        "\n",
        "* **Testing Approach:** Introduce new orders into the source system for today's date.\n",
        "* **Expected Outcome:**\n",
        "    - Run the pipeline, and it should process the new orders along with yesterday's data.\n",
        "    - Verify that the `fct_order_country` table reflects the new orders alongside existing data.\n",
        "    - dbt tests can help ensure data integrity remains consistent.\n",
        "\n",
        "**Scenario 3: Error Handling (Missing Price in Source Data)**\n",
        "\n",
        "* **Testing Approach:** Modify a record in the source system to have a missing price value.\n",
        "* **Expected Outcome:**\n",
        "    - The pipeline should handle the missing price gracefully (e.g., by logging a warning or using a default value)."
      ]
    }
  ],
  "metadata": {
    "colab": {
      "provenance": []
    },
    "kernelspec": {
      "display_name": "Python 3",
      "name": "python3"
    }
  },
  "nbformat": 4,
  "nbformat_minor": 0
}
